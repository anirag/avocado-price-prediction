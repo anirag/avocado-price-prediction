{
 "cells": [
  {
   "cell_type": "code",
   "execution_count": 1,
   "metadata": {
    "ExecuteTime": {
     "end_time": "2019-11-08T00:43:12.995484Z",
     "start_time": "2019-11-08T00:43:12.126875Z"
    },
    "scrolled": true
   },
   "outputs": [],
   "source": [
    "# import packages for data manipulation\n",
    "import pandas as pd\n",
    "import numpy as np\n",
    "\n",
    "# import packages for interactive plots\n",
    "import plotly.graph_objects as go\n",
    "import plotly.express as px\n",
    "from ipywidgets import widgets, interactive, Layout, HBox, VBox\n",
    "import calendar\n",
    "from IPython.display import display\n",
    "from ipywidgets.embed import embed_minimal_html"
   ]
  },
  {
   "cell_type": "code",
   "execution_count": 2,
   "metadata": {
    "ExecuteTime": {
     "end_time": "2019-11-08T00:43:13.027757Z",
     "start_time": "2019-11-08T00:43:12.997807Z"
    },
    "scrolled": true
   },
   "outputs": [],
   "source": [
    "data = pd.read_csv(\"../avocado.csv\")"
   ]
  },
  {
   "cell_type": "code",
   "execution_count": 3,
   "metadata": {
    "ExecuteTime": {
     "end_time": "2019-11-08T00:43:13.042007Z",
     "start_time": "2019-11-08T00:43:13.029828Z"
    },
    "scrolled": true
   },
   "outputs": [],
   "source": [
    "data.drop('Unnamed: 0', axis=1, inplace=True)\n",
    "data['Date'] = pd.to_datetime(data['Date'])\n",
    "data = data.sort_values('Date')"
   ]
  },
  {
   "cell_type": "code",
   "execution_count": 4,
   "metadata": {
    "ExecuteTime": {
     "end_time": "2019-11-08T00:43:13.087852Z",
     "start_time": "2019-11-08T00:43:13.043869Z"
    },
    "scrolled": true
   },
   "outputs": [],
   "source": [
    "# Make a dropdown to select the year, or \"All\"\n",
    "year = widgets.Dropdown(\n",
    "    options=['All'] + list(data['year'].unique()),\n",
    "    value='All',\n",
    "    description='Year:',\n",
    ")\n",
    "# Make a dropdown to select the avocado type, or \"All\"\n",
    "avocado_type = widgets.Dropdown(\n",
    "    options=['All'] + list(data['type'].sort_values().unique()),\n",
    "    value='All',\n",
    "    description='Type:',\n",
    ")\n",
    "\n",
    "# Make a dropdown to select the Region, or \"All\"\n",
    "region = widgets.Dropdown(\n",
    "    options=['All'] + list(data['region'].sort_values().unique()),\n",
    "    value='All',\n",
    "    description='Region:',\n",
    ")\n",
    "\n",
    "def custom_interactive_plot(region,year,avocado_type):\n",
    "    \"\"\"\n",
    "    Filters and plot the average price of avocado over time\n",
    "\n",
    "    Args:\n",
    "    -----\n",
    "        * region (str): the US region to filter on, or \"All\" to display all regions\n",
    "\n",
    "        * year (str): the year to filter on, or \"All\" to display all years\n",
    "        \n",
    "        * avocado_type (str): the avocado type to filter on, or \"All\" to display all types\n",
    "\n",
    "        Note: the dataframe to plot is globally defined here as `data`\n",
    "\n",
    "    Returns:\n",
    "    --------\n",
    "        A plotly line chart\n",
    "\n",
    "    \"\"\"\n",
    "    \n",
    "    df2 = data.copy()\n",
    "    if year != 'All':\n",
    "        df2 = df2[df2.year == year]\n",
    "    if avocado_type != 'All':\n",
    "        df2 = df2[df2.type == avocado_type]\n",
    "    if region != 'All':\n",
    "        df2 = df2[df2.region == region]\n",
    "    if region == 'All':\n",
    "        df2 = df2[df2.region == 'TotalUS']\n",
    "    df2['mean'] = df2.AveragePrice.mean()\n",
    "    df2['ltma'] = df2['AveragePrice'].rolling(window=52).mean()\n",
    "    df2['stma'] = df2['AveragePrice'].rolling(window=12).mean()\n",
    "    \n",
    "    melt_df = pd.melt(df2[['Date','AveragePrice','mean','ltma','stma']],id_vars='Date')\n",
    "\n",
    "    if len(df2)>0:\n",
    "        #fig = px.line(df2, x='Date', y='AveragePrice')\n",
    "        fig = px.line(melt_df,x='Date', y='value', color='variable')\n",
    "        fig.update_layout(\n",
    "            title_text=f\"Average Price of Avocado over Time, Region: {region}, Year: {year}, Type {avocado_type}\",\n",
    "            xaxis_tickformat = '%b <br>%Y')\n",
    "        fig.update_xaxes(nticks=24)\n",
    "        fig.show()\n",
    "\n",
    "    else:\n",
    "        print(f\"No data to show for {region} for avocado type {avocado_type} and year {year}\")"
   ]
  },
  {
   "cell_type": "code",
   "execution_count": 5,
   "metadata": {
    "ExecuteTime": {
     "end_time": "2019-11-08T00:43:14.147448Z",
     "start_time": "2019-11-08T00:43:13.090529Z"
    }
   },
   "outputs": [
    {
     "data": {
      "application/vnd.jupyter.widget-view+json": {
       "model_id": "3796d0b78a8243ac9c106ebda466d4ca",
       "version_major": 2,
       "version_minor": 0
      },
      "text/plain": [
       "interactive(children=(Dropdown(description='Region:', options=('All', 'Albany', 'Atlanta', 'BaltimoreWashingto…"
      ]
     },
     "metadata": {},
     "output_type": "display_data"
    }
   ],
   "source": [
    "interactive(custom_interactive_plot,region=region,year=year,avocado_type=avocado_type)"
   ]
  },
  {
   "cell_type": "code",
   "execution_count": 6,
   "metadata": {
    "ExecuteTime": {
     "end_time": "2019-11-08T00:43:14.155667Z",
     "start_time": "2019-11-08T00:43:14.149586Z"
    },
    "scrolled": true
   },
   "outputs": [],
   "source": [
    "def custom_yoy_plot(region,avocado_type):\n",
    "    \"\"\"\n",
    "    Filters and plot the average price of avocado over time\n",
    "\n",
    "    Args:\n",
    "    -----\n",
    "        * region (str): the US region to filter on, or \"All\" to display all regions\n",
    "\n",
    "        * year (str): the year to filter on, or \"All\" to display all years\n",
    "        \n",
    "        * avocado_type (str): the avocado type to filter on, or \"All\" to display all types\n",
    "\n",
    "        Note: the dataframe to plot is globally defined here as `data`\n",
    "\n",
    "    Returns:\n",
    "    --------\n",
    "        A plotly line chart\n",
    "\n",
    "    \"\"\"\n",
    "    \n",
    "    df2 = data.copy()\n",
    "    if avocado_type != 'All':\n",
    "        df2 = df2[df2.type == avocado_type]\n",
    "    if region != 'All':\n",
    "        df2 = df2[df2.region == region]\n",
    "    if region == 'All':\n",
    "        df2 = df2[df2.region == 'TotalUS']\n",
    "    \n",
    "    if len(df2)>0:\n",
    "        df2['month'] = df2.Date.dt.month\n",
    "        grp = df2.groupby(['region','month','year']).agg({'AveragePrice':'mean'}).reset_index()\n",
    "        fig = px.line(grp, x='month', y='AveragePrice', color='year', render_mode='svg')\n",
    "        fig.update_layout(title_text=\"Average Price of Avocado, year over year\")\n",
    "        fig.update_xaxes(nticks=12)\n",
    "        fig.show()\n",
    "\n",
    "    else:\n",
    "        print(f\"No data to show for {region} for avocado type {avocado_type}\")"
   ]
  },
  {
   "cell_type": "code",
   "execution_count": 7,
   "metadata": {
    "ExecuteTime": {
     "end_time": "2019-11-08T00:43:14.509184Z",
     "start_time": "2019-11-08T00:43:14.157950Z"
    },
    "scrolled": false
   },
   "outputs": [
    {
     "data": {
      "application/vnd.jupyter.widget-view+json": {
       "model_id": "8e3437633e1344d1b3e68e746341a6f5",
       "version_major": 2,
       "version_minor": 0
      },
      "text/plain": [
       "interactive(children=(Dropdown(description='Region:', options=('All', 'Albany', 'Atlanta', 'BaltimoreWashingto…"
      ]
     },
     "metadata": {},
     "output_type": "display_data"
    }
   ],
   "source": [
    "interactive(custom_yoy_plot,region=region,avocado_type=avocado_type)"
   ]
  }
 ],
 "metadata": {
  "hide_input": false,
  "kernelspec": {
   "display_name": "Python 3",
   "language": "python",
   "name": "python3"
  },
  "language_info": {
   "codemirror_mode": {
    "name": "ipython",
    "version": 3
   },
   "file_extension": ".py",
   "mimetype": "text/x-python",
   "name": "python",
   "nbconvert_exporter": "python",
   "pygments_lexer": "ipython3",
   "version": "3.7.3"
  },
  "toc": {
   "base_numbering": 1,
   "nav_menu": {},
   "number_sections": true,
   "sideBar": true,
   "skip_h1_title": false,
   "title_cell": "Table of Contents",
   "title_sidebar": "Contents",
   "toc_cell": false,
   "toc_position": {},
   "toc_section_display": true,
   "toc_window_display": false
  }
 },
 "nbformat": 4,
 "nbformat_minor": 2
}
