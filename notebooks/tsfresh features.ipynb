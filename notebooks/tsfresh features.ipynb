{
 "cells": [
  {
   "cell_type": "code",
   "execution_count": 1,
   "metadata": {
    "ExecuteTime": {
     "end_time": "2019-11-07T23:11:49.993713Z",
     "start_time": "2019-11-07T23:11:48.395189Z"
    }
   },
   "outputs": [],
   "source": [
    "# import packages for data manipulation\n",
    "import pandas as pd\n",
    "import numpy as np\n",
    "\n",
    "# Plotting libraries\n",
    "import matplotlib\n",
    "import matplotlib.pyplot as plt\n",
    "import seaborn as sns\n",
    "%matplotlib inline\n",
    "import janitor\n",
    "\n",
    "from tsfresh import extract_features\n",
    "from tsfresh.utilities.dataframe_functions import make_forecasting_frame, roll_time_series\n",
    "from sklearn.ensemble import AdaBoostRegressor\n",
    "from tsfresh.utilities.dataframe_functions import impute\n",
    "import warnings\n",
    "warnings.filterwarnings('ignore')\n",
    "import logging\n",
    "logging.getLogger('tsfresh').setLevel(logging.ERROR)"
   ]
  },
  {
   "cell_type": "code",
   "execution_count": 2,
   "metadata": {
    "ExecuteTime": {
     "end_time": "2019-11-07T23:11:50.030258Z",
     "start_time": "2019-11-07T23:11:49.996337Z"
    }
   },
   "outputs": [],
   "source": [
    "df = pd.read_csv('../avocado.csv')"
   ]
  },
  {
   "cell_type": "code",
   "execution_count": 3,
   "metadata": {
    "ExecuteTime": {
     "end_time": "2019-11-07T23:11:50.060180Z",
     "start_time": "2019-11-07T23:11:50.032141Z"
    }
   },
   "outputs": [],
   "source": [
    "# Removing index column\n",
    "df.drop('Unnamed: 0', axis=1, inplace=True)\n",
    "\n",
    "# Removing records with TotalUS region, assuming it is nust the average of all other regions\n",
    "df = df.loc[df.region!='TotalUS'].reset_index(drop=True)\n",
    "\n",
    "# Making date to datetime and sorting chrinologically\n",
    "df['Date'] = pd.to_datetime(df['Date'])\n",
    "df = df.sort_values(['region','Date'])\n",
    "df = df.clean_names()"
   ]
  },
  {
   "cell_type": "code",
   "execution_count": 4,
   "metadata": {
    "ExecuteTime": {
     "end_time": "2019-11-07T23:11:50.068758Z",
     "start_time": "2019-11-07T23:11:50.062559Z"
    }
   },
   "outputs": [],
   "source": [
    "df_conventional = df.loc[df.type=='conventional']"
   ]
  },
  {
   "cell_type": "code",
   "execution_count": 5,
   "metadata": {
    "ExecuteTime": {
     "end_time": "2019-11-07T23:11:50.079271Z",
     "start_time": "2019-11-07T23:11:50.071715Z"
    }
   },
   "outputs": [],
   "source": [
    "def tsfresh_feature_extraction(region,avocado_type):\n",
    "    temp = df.loc[(df.region==region)&(df.type==avocado_type)].reset_index(drop=True)\n",
    "    df_shift, y = make_forecasting_frame(temp.averageprice, kind=\"price\", max_timeshift=52, rolling_direction=1)\n",
    "    X = extract_features(df_shift, column_id=\"id\", column_sort=\"time\", column_value=\"value\", impute_function=impute,\n",
    "                     show_warnings=False)\n",
    "    X = X.loc[:, X.apply(pd.Series.nunique) != 1] \n",
    "    X[\"region\"] = region\n",
    "    X['date'] = temp.date\n",
    "    X['type'] = avocado_type\n",
    "    X = X.iloc[1:,]\n",
    "    y = y.iloc[1: ]\n",
    "    X = X.reset_index(drop=True)\n",
    "    return X,y"
   ]
  },
  {
   "cell_type": "code",
   "execution_count": 6,
   "metadata": {
    "ExecuteTime": {
     "end_time": "2019-11-07T23:22:52.455390Z",
     "start_time": "2019-11-07T23:11:50.082409Z"
    },
    "scrolled": true
   },
   "outputs": [
    {
     "name": "stderr",
     "output_type": "stream",
     "text": [
      "Feature Extraction: 100%|██████████| 19/19 [00:05<00:00,  3.19it/s]\n",
      "Feature Extraction: 100%|██████████| 19/19 [00:05<00:00,  3.54it/s]\n",
      "Feature Extraction: 100%|██████████| 19/19 [00:04<00:00,  4.51it/s]\n",
      "Feature Extraction: 100%|██████████| 19/19 [00:04<00:00,  4.24it/s]\n",
      "Feature Extraction: 100%|██████████| 19/19 [00:05<00:00,  3.58it/s]\n",
      "Feature Extraction: 100%|██████████| 19/19 [00:05<00:00,  3.43it/s]\n",
      "Feature Extraction: 100%|██████████| 19/19 [00:05<00:00,  3.73it/s]\n",
      "Feature Extraction: 100%|██████████| 19/19 [00:05<00:00,  3.58it/s]\n",
      "Feature Extraction: 100%|██████████| 19/19 [00:05<00:00,  3.59it/s]\n",
      "Feature Extraction: 100%|██████████| 19/19 [00:05<00:00,  3.52it/s]\n",
      "Feature Extraction: 100%|██████████| 19/19 [00:05<00:00,  3.70it/s]\n",
      "Feature Extraction: 100%|██████████| 19/19 [00:05<00:00,  3.69it/s]\n",
      "Feature Extraction: 100%|██████████| 19/19 [00:05<00:00,  3.46it/s]\n",
      "Feature Extraction: 100%|██████████| 19/19 [00:05<00:00,  3.70it/s]\n",
      "Feature Extraction: 100%|██████████| 19/19 [00:05<00:00,  3.68it/s]\n",
      "Feature Extraction: 100%|██████████| 19/19 [00:05<00:00,  3.75it/s]\n",
      "Feature Extraction: 100%|██████████| 19/19 [00:05<00:00,  3.67it/s]\n",
      "Feature Extraction: 100%|██████████| 19/19 [00:05<00:00,  3.65it/s]\n",
      "Feature Extraction: 100%|██████████| 19/19 [00:05<00:00,  3.63it/s]\n",
      "Feature Extraction: 100%|██████████| 19/19 [00:05<00:00,  3.65it/s]\n",
      "Feature Extraction: 100%|██████████| 19/19 [00:05<00:00,  3.52it/s]\n",
      "Feature Extraction: 100%|██████████| 19/19 [00:05<00:00,  3.49it/s]\n",
      "Feature Extraction: 100%|██████████| 19/19 [00:05<00:00,  3.62it/s]\n",
      "Feature Extraction: 100%|██████████| 19/19 [00:05<00:00,  3.66it/s]\n",
      "Feature Extraction: 100%|██████████| 19/19 [00:05<00:00,  3.60it/s]\n",
      "Feature Extraction: 100%|██████████| 19/19 [00:05<00:00,  3.73it/s]\n",
      "Feature Extraction: 100%|██████████| 19/19 [00:05<00:00,  3.64it/s]\n",
      "Feature Extraction: 100%|██████████| 19/19 [00:05<00:00,  3.60it/s]\n",
      "Feature Extraction: 100%|██████████| 19/19 [00:05<00:00,  3.66it/s]\n",
      "Feature Extraction: 100%|██████████| 19/19 [00:05<00:00,  3.61it/s]\n",
      "Feature Extraction: 100%|██████████| 19/19 [00:05<00:00,  3.61it/s]\n",
      "Feature Extraction: 100%|██████████| 19/19 [00:05<00:00,  3.59it/s]\n",
      "Feature Extraction: 100%|██████████| 19/19 [00:05<00:00,  3.68it/s]\n",
      "Feature Extraction: 100%|██████████| 19/19 [00:05<00:00,  3.62it/s]\n",
      "Feature Extraction: 100%|██████████| 19/19 [00:05<00:00,  3.73it/s]\n",
      "Feature Extraction: 100%|██████████| 19/19 [00:05<00:00,  3.53it/s]\n",
      "Feature Extraction: 100%|██████████| 19/19 [00:05<00:00,  3.73it/s]\n",
      "Feature Extraction: 100%|██████████| 19/19 [00:05<00:00,  3.70it/s]\n",
      "Feature Extraction: 100%|██████████| 19/19 [00:05<00:00,  3.53it/s]\n",
      "Feature Extraction: 100%|██████████| 19/19 [00:05<00:00,  3.36it/s]\n",
      "Feature Extraction: 100%|██████████| 19/19 [00:05<00:00,  3.67it/s]\n",
      "Feature Extraction: 100%|██████████| 19/19 [00:05<00:00,  3.63it/s]\n",
      "Feature Extraction: 100%|██████████| 19/19 [00:05<00:00,  3.57it/s]\n",
      "Feature Extraction: 100%|██████████| 19/19 [00:05<00:00,  3.69it/s]\n",
      "Feature Extraction: 100%|██████████| 19/19 [00:05<00:00,  3.53it/s]\n",
      "Feature Extraction: 100%|██████████| 19/19 [00:05<00:00,  3.57it/s]\n",
      "Feature Extraction: 100%|██████████| 19/19 [00:05<00:00,  3.52it/s]\n",
      "Feature Extraction: 100%|██████████| 19/19 [00:05<00:00,  3.41it/s]\n",
      "Feature Extraction: 100%|██████████| 19/19 [00:05<00:00,  3.50it/s]\n",
      "Feature Extraction: 100%|██████████| 19/19 [00:05<00:00,  3.41it/s]\n",
      "Feature Extraction: 100%|██████████| 19/19 [00:05<00:00,  3.49it/s]\n",
      "Feature Extraction: 100%|██████████| 19/19 [00:05<00:00,  3.48it/s]\n",
      "Feature Extraction: 100%|██████████| 19/19 [00:05<00:00,  3.51it/s]\n",
      "Feature Extraction: 100%|██████████| 19/19 [00:05<00:00,  3.44it/s]\n",
      "Feature Extraction: 100%|██████████| 19/19 [00:05<00:00,  3.70it/s]\n",
      "Feature Extraction: 100%|██████████| 19/19 [00:05<00:00,  3.31it/s]\n",
      "Feature Extraction: 100%|██████████| 19/19 [00:05<00:00,  3.59it/s]\n",
      "Feature Extraction: 100%|██████████| 19/19 [00:05<00:00,  3.17it/s]\n",
      "Feature Extraction: 100%|██████████| 19/19 [00:05<00:00,  3.62it/s]\n",
      "Feature Extraction: 100%|██████████| 19/19 [00:05<00:00,  3.40it/s]\n",
      "Feature Extraction: 100%|██████████| 19/19 [00:05<00:00,  3.59it/s]\n",
      "Feature Extraction: 100%|██████████| 19/19 [00:05<00:00,  3.52it/s]\n",
      "Feature Extraction: 100%|██████████| 19/19 [00:05<00:00,  3.48it/s]\n",
      "Feature Extraction: 100%|██████████| 19/19 [00:05<00:00,  3.52it/s]\n",
      "Feature Extraction: 100%|██████████| 19/19 [00:05<00:00,  3.50it/s]\n",
      "Feature Extraction: 100%|██████████| 19/19 [00:05<00:00,  3.38it/s]\n",
      "Feature Extraction: 100%|██████████| 19/19 [00:05<00:00,  3.42it/s]\n",
      "Feature Extraction: 100%|██████████| 19/19 [00:06<00:00,  3.15it/s]\n",
      "Feature Extraction: 100%|██████████| 19/19 [00:05<00:00,  3.33it/s]\n",
      "Feature Extraction: 100%|██████████| 19/19 [00:05<00:00,  3.56it/s]\n",
      "Feature Extraction: 100%|██████████| 19/19 [00:05<00:00,  3.23it/s]\n",
      "Feature Extraction: 100%|██████████| 19/19 [00:05<00:00,  3.72it/s]\n",
      "Feature Extraction: 100%|██████████| 19/19 [00:05<00:00,  3.38it/s]\n",
      "Feature Extraction: 100%|██████████| 19/19 [00:05<00:00,  3.66it/s]\n",
      "Feature Extraction: 100%|██████████| 19/19 [00:05<00:00,  3.72it/s]\n",
      "Feature Extraction: 100%|██████████| 19/19 [00:05<00:00,  3.56it/s]\n",
      "Feature Extraction: 100%|██████████| 19/19 [00:05<00:00,  3.71it/s]\n",
      "Feature Extraction: 100%|██████████| 19/19 [00:05<00:00,  3.57it/s]\n",
      "Feature Extraction: 100%|██████████| 19/19 [00:05<00:00,  3.31it/s]\n",
      "Feature Extraction: 100%|██████████| 19/19 [00:05<00:00,  3.69it/s]\n",
      "Feature Extraction: 100%|██████████| 19/19 [00:05<00:00,  3.25it/s]\n",
      "Feature Extraction: 100%|██████████| 19/19 [00:05<00:00,  3.55it/s]\n",
      "Feature Extraction: 100%|██████████| 19/19 [00:05<00:00,  3.39it/s]\n",
      "Feature Extraction: 100%|██████████| 19/19 [00:05<00:00,  3.34it/s]\n",
      "Feature Extraction: 100%|██████████| 19/19 [00:06<00:00,  3.07it/s]\n",
      "Feature Extraction: 100%|██████████| 19/19 [00:05<00:00,  3.48it/s]\n",
      "Feature Extraction: 100%|██████████| 19/19 [00:05<00:00,  3.36it/s]\n",
      "Feature Extraction: 100%|██████████| 19/19 [00:05<00:00,  3.41it/s]\n",
      "Feature Extraction: 100%|██████████| 19/19 [00:05<00:00,  3.52it/s]\n",
      "Feature Extraction: 100%|██████████| 19/19 [00:05<00:00,  3.36it/s]\n",
      "Feature Extraction: 100%|██████████| 19/19 [00:05<00:00,  3.51it/s]\n",
      "Feature Extraction: 100%|██████████| 19/19 [00:05<00:00,  3.51it/s]\n",
      "Feature Extraction: 100%|██████████| 19/19 [00:05<00:00,  3.36it/s]\n",
      "Feature Extraction: 100%|██████████| 19/19 [00:05<00:00,  3.55it/s]\n",
      "Feature Extraction: 100%|██████████| 19/19 [00:05<00:00,  3.48it/s]\n",
      "Feature Extraction: 100%|██████████| 19/19 [00:05<00:00,  3.47it/s]\n",
      "Feature Extraction: 100%|██████████| 19/19 [00:05<00:00,  3.46it/s]\n",
      "Feature Extraction: 100%|██████████| 19/19 [00:05<00:00,  3.47it/s]\n",
      "Feature Extraction: 100%|██████████| 19/19 [00:06<00:00,  3.01it/s]\n",
      "Feature Extraction: 100%|██████████| 19/19 [00:05<00:00,  3.68it/s]\n",
      "Feature Extraction: 100%|██████████| 19/19 [00:06<00:00,  3.04it/s]\n",
      "Feature Extraction: 100%|██████████| 19/19 [00:05<00:00,  3.63it/s]\n",
      "Feature Extraction: 100%|██████████| 19/19 [00:05<00:00,  3.55it/s]\n",
      "Feature Extraction: 100%|██████████| 19/19 [00:05<00:00,  3.47it/s]\n",
      "Feature Extraction: 100%|██████████| 19/19 [00:05<00:00,  3.50it/s]\n",
      "Feature Extraction: 100%|██████████| 19/19 [00:05<00:00,  3.28it/s]\n"
     ]
    }
   ],
   "source": [
    "X = []\n",
    "y = []\n",
    "for avocado_type in ['conventional','organic']:\n",
    "    for region in list(set(df.region)):\n",
    "        x_temp,y_temp = tsfresh_feature_extraction(region,avocado_type)\n",
    "        X.append(x_temp)\n",
    "        y.append(y_temp)"
   ]
  },
  {
   "cell_type": "code",
   "execution_count": 7,
   "metadata": {
    "ExecuteTime": {
     "end_time": "2019-11-07T23:22:52.766870Z",
     "start_time": "2019-11-07T23:22:52.457759Z"
    }
   },
   "outputs": [],
   "source": [
    "train = pd.concat(X)\n",
    "train_y = pd.concat(y)"
   ]
  },
  {
   "cell_type": "code",
   "execution_count": 8,
   "metadata": {
    "ExecuteTime": {
     "end_time": "2019-11-07T23:22:52.774286Z",
     "start_time": "2019-11-07T23:22:52.768769Z"
    }
   },
   "outputs": [
    {
     "data": {
      "text/plain": [
       "((17699, 437), (17699,), (17911, 13))"
      ]
     },
     "execution_count": 8,
     "metadata": {},
     "output_type": "execute_result"
    }
   ],
   "source": [
    "train.shape, train_y.shape, df.shape"
   ]
  },
  {
   "cell_type": "code",
   "execution_count": 9,
   "metadata": {
    "ExecuteTime": {
     "end_time": "2019-11-07T23:22:52.803212Z",
     "start_time": "2019-11-07T23:22:52.777145Z"
    }
   },
   "outputs": [
    {
     "data": {
      "text/html": [
       "<div>\n",
       "<style scoped>\n",
       "    .dataframe tbody tr th:only-of-type {\n",
       "        vertical-align: middle;\n",
       "    }\n",
       "\n",
       "    .dataframe tbody tr th {\n",
       "        vertical-align: top;\n",
       "    }\n",
       "\n",
       "    .dataframe thead th {\n",
       "        text-align: right;\n",
       "    }\n",
       "</style>\n",
       "<table border=\"1\" class=\"dataframe\">\n",
       "  <thead>\n",
       "    <tr style=\"text-align: right;\">\n",
       "      <th></th>\n",
       "      <th>date</th>\n",
       "      <th>region</th>\n",
       "      <th>type</th>\n",
       "      <th>value__abs_energy</th>\n",
       "      <th>value__absolute_sum_of_changes</th>\n",
       "      <th>value__agg_autocorrelation__f_agg_\"mean\"__maxlag_40</th>\n",
       "      <th>value__agg_autocorrelation__f_agg_\"median\"__maxlag_40</th>\n",
       "      <th>value__agg_autocorrelation__f_agg_\"var\"__maxlag_40</th>\n",
       "      <th>value__agg_linear_trend__f_agg_\"max\"__chunk_len_10__attr_\"intercept\"</th>\n",
       "      <th>value__agg_linear_trend__f_agg_\"max\"__chunk_len_10__attr_\"rvalue\"</th>\n",
       "      <th>...</th>\n",
       "      <th>value__symmetry_looking__r_0.75</th>\n",
       "      <th>value__symmetry_looking__r_0.8</th>\n",
       "      <th>value__symmetry_looking__r_0.8500000000000001</th>\n",
       "      <th>value__symmetry_looking__r_0.9</th>\n",
       "      <th>value__symmetry_looking__r_0.9500000000000001</th>\n",
       "      <th>value__time_reversal_asymmetry_statistic__lag_1</th>\n",
       "      <th>value__time_reversal_asymmetry_statistic__lag_2</th>\n",
       "      <th>value__time_reversal_asymmetry_statistic__lag_3</th>\n",
       "      <th>value__value_count__value_1</th>\n",
       "      <th>value__variance</th>\n",
       "    </tr>\n",
       "  </thead>\n",
       "  <tbody>\n",
       "    <tr>\n",
       "      <th>0</th>\n",
       "      <td>2015-01-18</td>\n",
       "      <td>NorthernNewEngland</td>\n",
       "      <td>conventional</td>\n",
       "      <td>2.2261</td>\n",
       "      <td>0.01</td>\n",
       "      <td>-1.000000</td>\n",
       "      <td>-1.000000</td>\n",
       "      <td>0.000000</td>\n",
       "      <td>1.24381</td>\n",
       "      <td>0.415434</td>\n",
       "      <td>...</td>\n",
       "      <td>1.0</td>\n",
       "      <td>1.0</td>\n",
       "      <td>1.0</td>\n",
       "      <td>1.0</td>\n",
       "      <td>1.0</td>\n",
       "      <td>0.000000</td>\n",
       "      <td>0.000000</td>\n",
       "      <td>0.0</td>\n",
       "      <td>0.0</td>\n",
       "      <td>0.000025</td>\n",
       "    </tr>\n",
       "    <tr>\n",
       "      <th>1</th>\n",
       "      <td>2015-01-25</td>\n",
       "      <td>NorthernNewEngland</td>\n",
       "      <td>conventional</td>\n",
       "      <td>3.4805</td>\n",
       "      <td>0.07</td>\n",
       "      <td>-0.677326</td>\n",
       "      <td>-0.677326</td>\n",
       "      <td>0.282999</td>\n",
       "      <td>1.24381</td>\n",
       "      <td>0.415434</td>\n",
       "      <td>...</td>\n",
       "      <td>1.0</td>\n",
       "      <td>1.0</td>\n",
       "      <td>1.0</td>\n",
       "      <td>1.0</td>\n",
       "      <td>1.0</td>\n",
       "      <td>0.161014</td>\n",
       "      <td>0.000000</td>\n",
       "      <td>0.0</td>\n",
       "      <td>0.0</td>\n",
       "      <td>0.000956</td>\n",
       "    </tr>\n",
       "    <tr>\n",
       "      <th>2</th>\n",
       "      <td>2015-02-01</td>\n",
       "      <td>NorthernNewEngland</td>\n",
       "      <td>conventional</td>\n",
       "      <td>4.6041</td>\n",
       "      <td>0.13</td>\n",
       "      <td>-0.206865</td>\n",
       "      <td>-0.392954</td>\n",
       "      <td>0.170706</td>\n",
       "      <td>1.24381</td>\n",
       "      <td>0.415434</td>\n",
       "      <td>...</td>\n",
       "      <td>1.0</td>\n",
       "      <td>1.0</td>\n",
       "      <td>1.0</td>\n",
       "      <td>1.0</td>\n",
       "      <td>1.0</td>\n",
       "      <td>0.080507</td>\n",
       "      <td>0.000000</td>\n",
       "      <td>0.0</td>\n",
       "      <td>0.0</td>\n",
       "      <td>0.000769</td>\n",
       "    </tr>\n",
       "    <tr>\n",
       "      <th>3</th>\n",
       "      <td>2015-02-08</td>\n",
       "      <td>NorthernNewEngland</td>\n",
       "      <td>conventional</td>\n",
       "      <td>5.7277</td>\n",
       "      <td>0.13</td>\n",
       "      <td>-0.113932</td>\n",
       "      <td>-0.019531</td>\n",
       "      <td>0.176779</td>\n",
       "      <td>1.24381</td>\n",
       "      <td>0.415434</td>\n",
       "      <td>...</td>\n",
       "      <td>1.0</td>\n",
       "      <td>1.0</td>\n",
       "      <td>1.0</td>\n",
       "      <td>1.0</td>\n",
       "      <td>1.0</td>\n",
       "      <td>0.007455</td>\n",
       "      <td>0.023632</td>\n",
       "      <td>0.0</td>\n",
       "      <td>0.0</td>\n",
       "      <td>0.000640</td>\n",
       "    </tr>\n",
       "    <tr>\n",
       "      <th>4</th>\n",
       "      <td>2015-02-15</td>\n",
       "      <td>NorthernNewEngland</td>\n",
       "      <td>conventional</td>\n",
       "      <td>6.7886</td>\n",
       "      <td>0.16</td>\n",
       "      <td>-0.089118</td>\n",
       "      <td>-0.055882</td>\n",
       "      <td>0.209648</td>\n",
       "      <td>1.24381</td>\n",
       "      <td>0.415434</td>\n",
       "      <td>...</td>\n",
       "      <td>1.0</td>\n",
       "      <td>1.0</td>\n",
       "      <td>1.0</td>\n",
       "      <td>1.0</td>\n",
       "      <td>1.0</td>\n",
       "      <td>-0.011024</td>\n",
       "      <td>-0.021415</td>\n",
       "      <td>0.0</td>\n",
       "      <td>0.0</td>\n",
       "      <td>0.000756</td>\n",
       "    </tr>\n",
       "  </tbody>\n",
       "</table>\n",
       "<p>5 rows × 437 columns</p>\n",
       "</div>"
      ],
      "text/plain": [
       "        date              region          type  value__abs_energy  \\\n",
       "0 2015-01-18  NorthernNewEngland  conventional             2.2261   \n",
       "1 2015-01-25  NorthernNewEngland  conventional             3.4805   \n",
       "2 2015-02-01  NorthernNewEngland  conventional             4.6041   \n",
       "3 2015-02-08  NorthernNewEngland  conventional             5.7277   \n",
       "4 2015-02-15  NorthernNewEngland  conventional             6.7886   \n",
       "\n",
       "   value__absolute_sum_of_changes  \\\n",
       "0                            0.01   \n",
       "1                            0.07   \n",
       "2                            0.13   \n",
       "3                            0.13   \n",
       "4                            0.16   \n",
       "\n",
       "   value__agg_autocorrelation__f_agg_\"mean\"__maxlag_40  \\\n",
       "0                                          -1.000000     \n",
       "1                                          -0.677326     \n",
       "2                                          -0.206865     \n",
       "3                                          -0.113932     \n",
       "4                                          -0.089118     \n",
       "\n",
       "   value__agg_autocorrelation__f_agg_\"median\"__maxlag_40  \\\n",
       "0                                          -1.000000       \n",
       "1                                          -0.677326       \n",
       "2                                          -0.392954       \n",
       "3                                          -0.019531       \n",
       "4                                          -0.055882       \n",
       "\n",
       "   value__agg_autocorrelation__f_agg_\"var\"__maxlag_40  \\\n",
       "0                                           0.000000    \n",
       "1                                           0.282999    \n",
       "2                                           0.170706    \n",
       "3                                           0.176779    \n",
       "4                                           0.209648    \n",
       "\n",
       "   value__agg_linear_trend__f_agg_\"max\"__chunk_len_10__attr_\"intercept\"  \\\n",
       "0                                            1.24381                      \n",
       "1                                            1.24381                      \n",
       "2                                            1.24381                      \n",
       "3                                            1.24381                      \n",
       "4                                            1.24381                      \n",
       "\n",
       "   value__agg_linear_trend__f_agg_\"max\"__chunk_len_10__attr_\"rvalue\"  ...  \\\n",
       "0                                           0.415434                  ...   \n",
       "1                                           0.415434                  ...   \n",
       "2                                           0.415434                  ...   \n",
       "3                                           0.415434                  ...   \n",
       "4                                           0.415434                  ...   \n",
       "\n",
       "   value__symmetry_looking__r_0.75  value__symmetry_looking__r_0.8  \\\n",
       "0                              1.0                             1.0   \n",
       "1                              1.0                             1.0   \n",
       "2                              1.0                             1.0   \n",
       "3                              1.0                             1.0   \n",
       "4                              1.0                             1.0   \n",
       "\n",
       "   value__symmetry_looking__r_0.8500000000000001  \\\n",
       "0                                            1.0   \n",
       "1                                            1.0   \n",
       "2                                            1.0   \n",
       "3                                            1.0   \n",
       "4                                            1.0   \n",
       "\n",
       "   value__symmetry_looking__r_0.9  \\\n",
       "0                             1.0   \n",
       "1                             1.0   \n",
       "2                             1.0   \n",
       "3                             1.0   \n",
       "4                             1.0   \n",
       "\n",
       "   value__symmetry_looking__r_0.9500000000000001  \\\n",
       "0                                            1.0   \n",
       "1                                            1.0   \n",
       "2                                            1.0   \n",
       "3                                            1.0   \n",
       "4                                            1.0   \n",
       "\n",
       "   value__time_reversal_asymmetry_statistic__lag_1  \\\n",
       "0                                         0.000000   \n",
       "1                                         0.161014   \n",
       "2                                         0.080507   \n",
       "3                                         0.007455   \n",
       "4                                        -0.011024   \n",
       "\n",
       "   value__time_reversal_asymmetry_statistic__lag_2  \\\n",
       "0                                         0.000000   \n",
       "1                                         0.000000   \n",
       "2                                         0.000000   \n",
       "3                                         0.023632   \n",
       "4                                        -0.021415   \n",
       "\n",
       "   value__time_reversal_asymmetry_statistic__lag_3  \\\n",
       "0                                              0.0   \n",
       "1                                              0.0   \n",
       "2                                              0.0   \n",
       "3                                              0.0   \n",
       "4                                              0.0   \n",
       "\n",
       "   value__value_count__value_1  value__variance  \n",
       "0                          0.0         0.000025  \n",
       "1                          0.0         0.000956  \n",
       "2                          0.0         0.000769  \n",
       "3                          0.0         0.000640  \n",
       "4                          0.0         0.000756  \n",
       "\n",
       "[5 rows x 437 columns]"
      ]
     },
     "execution_count": 9,
     "metadata": {},
     "output_type": "execute_result"
    }
   ],
   "source": [
    "train.head()"
   ]
  },
  {
   "cell_type": "code",
   "execution_count": 10,
   "metadata": {
    "ExecuteTime": {
     "end_time": "2019-11-07T23:22:52.961925Z",
     "start_time": "2019-11-07T23:22:52.805681Z"
    }
   },
   "outputs": [
    {
     "data": {
      "text/plain": [
       "date                                                  0\n",
       "region                                                0\n",
       "type                                                  0\n",
       "value__abs_energy                                     0\n",
       "value__absolute_sum_of_changes                        0\n",
       "                                                   ... \n",
       "value__time_reversal_asymmetry_statistic__lag_1       0\n",
       "value__time_reversal_asymmetry_statistic__lag_2       0\n",
       "value__time_reversal_asymmetry_statistic__lag_3       0\n",
       "value__value_count__value_1                        9182\n",
       "value__variance                                       0\n",
       "Length: 437, dtype: int64"
      ]
     },
     "execution_count": 10,
     "metadata": {},
     "output_type": "execute_result"
    }
   ],
   "source": [
    "train.isnull().sum()"
   ]
  },
  {
   "cell_type": "code",
   "execution_count": 11,
   "metadata": {
    "ExecuteTime": {
     "end_time": "2019-11-07T23:22:53.022623Z",
     "start_time": "2019-11-07T23:22:52.963877Z"
    }
   },
   "outputs": [],
   "source": [
    "train = train.reset_index(drop=True)"
   ]
  },
  {
   "cell_type": "code",
   "execution_count": 12,
   "metadata": {
    "ExecuteTime": {
     "end_time": "2019-11-07T23:22:53.129018Z",
     "start_time": "2019-11-07T23:22:53.025870Z"
    }
   },
   "outputs": [],
   "source": [
    "import pickle\n",
    "pickle.dump(train,open('tsfresh_features.p','wb'))"
   ]
  },
  {
   "cell_type": "code",
   "execution_count": 13,
   "metadata": {
    "ExecuteTime": {
     "end_time": "2019-11-07T23:22:53.165395Z",
     "start_time": "2019-11-07T23:22:53.131152Z"
    }
   },
   "outputs": [],
   "source": [
    "na_df = pd.DataFrame(train.isnull().sum().reset_index())\n",
    "na_df.columns = ['feature','num_NA']"
   ]
  },
  {
   "cell_type": "code",
   "execution_count": 14,
   "metadata": {
    "ExecuteTime": {
     "end_time": "2019-11-07T23:22:53.171425Z",
     "start_time": "2019-11-07T23:22:53.167429Z"
    }
   },
   "outputs": [],
   "source": [
    "drop_features = na_df.loc[na_df.num_NA>0].feature.tolist()"
   ]
  },
  {
   "cell_type": "code",
   "execution_count": 15,
   "metadata": {
    "ExecuteTime": {
     "end_time": "2019-11-07T23:22:53.207548Z",
     "start_time": "2019-11-07T23:22:53.174538Z"
    }
   },
   "outputs": [],
   "source": [
    "train.drop(drop_features,axis=1,inplace=True)"
   ]
  },
  {
   "cell_type": "code",
   "execution_count": 16,
   "metadata": {
    "ExecuteTime": {
     "end_time": "2019-11-07T23:22:53.306390Z",
     "start_time": "2019-11-07T23:22:53.212352Z"
    }
   },
   "outputs": [],
   "source": [
    "import pickle\n",
    "pickle.dump(train,open('tsfresh_features.p','wb'))"
   ]
  }
 ],
 "metadata": {
  "hide_input": false,
  "kernelspec": {
   "display_name": "Python 3",
   "language": "python",
   "name": "python3"
  },
  "language_info": {
   "codemirror_mode": {
    "name": "ipython",
    "version": 3
   },
   "file_extension": ".py",
   "mimetype": "text/x-python",
   "name": "python",
   "nbconvert_exporter": "python",
   "pygments_lexer": "ipython3",
   "version": "3.7.3"
  },
  "toc": {
   "base_numbering": 1,
   "nav_menu": {},
   "number_sections": true,
   "sideBar": true,
   "skip_h1_title": false,
   "title_cell": "Table of Contents",
   "title_sidebar": "Contents",
   "toc_cell": false,
   "toc_position": {},
   "toc_section_display": true,
   "toc_window_display": false
  }
 },
 "nbformat": 4,
 "nbformat_minor": 2
}
