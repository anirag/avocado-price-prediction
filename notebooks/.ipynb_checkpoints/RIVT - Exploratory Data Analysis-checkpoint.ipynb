{
 "cells": [
  {
   "cell_type": "markdown",
   "metadata": {},
   "source": [
    "# Importing Packages"
   ]
  },
  {
   "cell_type": "code",
   "execution_count": null,
   "metadata": {
    "ExecuteTime": {
     "end_time": "2019-11-06T22:33:36.118581Z",
     "start_time": "2019-11-06T22:33:28.674259Z"
    }
   },
   "outputs": [],
   "source": [
    "# import packages for data manipulation\n",
    "import pandas as pd\n",
    "import numpy as np\n",
    "\n",
    "# Plotting libraries\n",
    "import matplotlib\n",
    "import matplotlib.pyplot as plt\n",
    "import seaborn as sns\n",
    "%matplotlib inline\n",
    "\n",
    "import pandas_profiling\n",
    "import janitor"
   ]
  },
  {
   "cell_type": "markdown",
   "metadata": {},
   "source": [
    "# Loading Data"
   ]
  },
  {
   "cell_type": "code",
   "execution_count": null,
   "metadata": {
    "ExecuteTime": {
     "end_time": "2019-11-06T22:33:36.157185Z",
     "start_time": "2019-11-06T22:33:36.121397Z"
    }
   },
   "outputs": [],
   "source": [
    "df = pd.read_csv(\"avocado.csv\")"
   ]
  },
  {
   "cell_type": "markdown",
   "metadata": {},
   "source": [
    "# Cleaning Data for exploration"
   ]
  },
  {
   "cell_type": "code",
   "execution_count": null,
   "metadata": {
    "ExecuteTime": {
     "end_time": "2019-11-06T22:33:36.218291Z",
     "start_time": "2019-11-06T22:33:36.159100Z"
    }
   },
   "outputs": [],
   "source": [
    "# Removing index column\n",
    "df.drop('Unnamed: 0', axis=1, inplace=True)\n",
    "\n",
    "# Removing records with TotalUS region, assuming it is nust the average of all other regions\n",
    "df = df.loc[df.region!='TotalUS']\n",
    "\n",
    "# Making date to datetime and sorting chrinologically\n",
    "df['Date'] = pd.to_datetime(df['Date'])\n",
    "df = df.sort_values('Date')\n",
    "df = df.clean_names()"
   ]
  },
  {
   "cell_type": "code",
   "execution_count": null,
   "metadata": {
    "ExecuteTime": {
     "end_time": "2019-11-06T22:33:36.235833Z",
     "start_time": "2019-11-06T22:33:36.220231Z"
    }
   },
   "outputs": [],
   "source": [
    "df.head()"
   ]
  },
  {
   "cell_type": "markdown",
   "metadata": {},
   "source": [
    "# Pandas dataframe profiling"
   ]
  },
  {
   "cell_type": "code",
   "execution_count": null,
   "metadata": {
    "ExecuteTime": {
     "end_time": "2019-11-06T22:33:36.240408Z",
     "start_time": "2019-11-06T22:33:36.238590Z"
    }
   },
   "outputs": [],
   "source": [
    "# Quick profile check on the dataframe\n",
    "#profile = df.profile_report(title='Pandas Profiling Report')\n",
    "#profile.to_file(output_file=\"profile_report_before_preprocessing.html\")"
   ]
  },
  {
   "cell_type": "code",
   "execution_count": null,
   "metadata": {
    "ExecuteTime": {
     "end_time": "2019-11-06T22:33:36.366768Z",
     "start_time": "2019-11-06T22:33:36.242195Z"
    }
   },
   "outputs": [],
   "source": [
    "# Adding month and day variable to visualize seasonal patterns\n",
    "df['month']=df['date'].apply(lambda x:x.month)\n",
    "df['day']=df['date'].apply(lambda x:x.day)\n",
    "df['Week_Number'] = df['date'].dt.week"
   ]
  },
  {
   "cell_type": "markdown",
   "metadata": {},
   "source": [
    "# Exploration of avocado price with Time"
   ]
  },
  {
   "cell_type": "markdown",
   "metadata": {},
   "source": [
    ">Plotting the average avocado price over different time range (date,month,day) to check for trend and seasonal patterns. "
   ]
  },
  {
   "cell_type": "code",
   "execution_count": null,
   "metadata": {
    "ExecuteTime": {
     "end_time": "2019-11-06T22:33:40.114340Z",
     "start_time": "2019-11-06T22:33:39.769770Z"
    }
   },
   "outputs": [],
   "source": [
    "plt.figure(figsize=(12,5))\n",
    "plt.title(\"Distribution of Avergae Avocado price\")\n",
    "ax = sns.distplot(df[\"averageprice\"])"
   ]
  },
  {
   "cell_type": "code",
   "execution_count": null,
   "metadata": {
    "ExecuteTime": {
     "end_time": "2019-11-06T22:33:40.599726Z",
     "start_time": "2019-11-06T22:33:40.236265Z"
    }
   },
   "outputs": [],
   "source": [
    "grp=df.groupby('date').mean().reset_index();\n",
    "mean_ = df.averageprice.mean()\n",
    "median_ = df.averageprice.median()\n",
    "plt.figure(figsize=(12,5));\n",
    "g = sns.lineplot(x='date',y='averageprice',data=grp);\n",
    "g.axhline(mean_, color='r', linestyle='--')\n",
    "g.axhline(median_, color='g', linestyle='-')\n",
    "plt.title('Average Price over time');"
   ]
  },
  {
   "cell_type": "code",
   "execution_count": null,
   "metadata": {
    "ExecuteTime": {
     "end_time": "2019-11-06T22:33:43.149768Z",
     "start_time": "2019-11-06T22:33:42.801725Z"
    }
   },
   "outputs": [],
   "source": [
    "grp = pd.pivot_table(df,index=df['date'].dt.month,columns=df['date'].dt.year,values='averageprice',aggfunc=np.mean)\n",
    "grp.plot(figsize=(12,5));\n",
    "plt.title('Average Price by Month');"
   ]
  },
  {
   "cell_type": "code",
   "execution_count": null,
   "metadata": {
    "ExecuteTime": {
     "end_time": "2019-11-06T22:33:44.088927Z",
     "start_time": "2019-11-06T22:33:43.769842Z"
    }
   },
   "outputs": [],
   "source": [
    "grp=df.groupby('day').mean().reset_index();\n",
    "fig, ax = plt.subplots(figsize=(12,5));\n",
    "ax.xaxis.set(ticks=range(0,31));\n",
    "grp['averageprice'].plot(x=grp.day);\n",
    "plt.title('Average Price by Day');"
   ]
  },
  {
   "cell_type": "code",
   "execution_count": null,
   "metadata": {
    "ExecuteTime": {
     "end_time": "2019-11-06T22:35:31.418028Z",
     "start_time": "2019-11-06T22:35:31.143380Z"
    }
   },
   "outputs": [],
   "source": [
    "grp=df.groupby('Week_Number').mean().reset_index();\n",
    "fig, ax = plt.subplots(figsize=(12,5));\n",
    "grp['averageprice'].plot(x=grp.Week_Number);\n",
    "plt.title('Average Price by week number');"
   ]
  },
  {
   "cell_type": "markdown",
   "metadata": {},
   "source": [
    "**Summary**\n",
    "\n",
    "*  There is no clear increasing or decreasing trend in the average price. We can see that the avocado prices were stable around mean ~1.3 in 2015 but in 2016/2017 we can see the prices are highly volatile.\n",
    "* It looks that most price peaks between the months of August and October. This can be seen in monthly and week number charts. Seems like Fall is the perfect time for avocados. Researching shows Avocado trees are planted in spring and ripens to harvest around September.\n",
    "* Also we see that at the end of the year there is a major price drop in the price of avocados. Not sure what the reasoc could be? maybe due to winter, but have to look at other reasons.\n"
   ]
  },
  {
   "cell_type": "markdown",
   "metadata": {},
   "source": [
    "# Exploration of Price by region"
   ]
  },
  {
   "cell_type": "markdown",
   "metadata": {},
   "source": [
    "> Visualizing the prices at different regions to see if there is an effect"
   ]
  },
  {
   "cell_type": "code",
   "execution_count": null,
   "metadata": {
    "ExecuteTime": {
     "end_time": "2019-11-06T16:01:23.621385Z",
     "start_time": "2019-11-06T16:01:22.240564Z"
    }
   },
   "outputs": [],
   "source": [
    "# Top regions by total volume of avocados sold\n",
    "grp = df.groupby('region').agg({'total_volume':'sum'}).reset_index()\n",
    "plt.figure(figsize=(22,10));\n",
    "sns.set(font_scale=1.5);\n",
    "sns.barplot(x='region',y='total_volume',data=grp.sort_values('total_volume',ascending=False));\n",
    "plt.xticks(rotation=90);\n",
    "plt.xlabel('Region');\n",
    "plt.ylabel('Average of Total Volume');\n",
    "plt.title('Average of Total Volume According to Region');"
   ]
  },
  {
   "cell_type": "code",
   "execution_count": null,
   "metadata": {
    "ExecuteTime": {
     "end_time": "2019-11-06T16:01:27.714578Z",
     "start_time": "2019-11-06T16:01:23.623475Z"
    }
   },
   "outputs": [],
   "source": [
    "plt.figure(figsize=(12,20));\n",
    "sns.pointplot(x='averageprice',y='region',data=df, hue='type',join=False);\n",
    "plt.xticks(np.linspace(1,2,5));\n",
    "plt.xlabel('Region',{'fontsize' : 'large'});\n",
    "plt.ylabel('Average Price',{'fontsize':'large'});\n",
    "plt.title(\" Average Price in Each Region\",{'fontsize':20});"
   ]
  },
  {
   "cell_type": "markdown",
   "metadata": {},
   "source": [
    ">**West, SouthCentral, California, northeast and Southeast** are the top regions based on total volume of avocado consumed. Knowing that Avocados are native to mexico and requires warm temperatures to grow, high consumption in these regions make sense. Northeast is the outlier here, maybe the region includes many states that increases the total consumption.\n",
    "\n",
    ">Interestingly, **San Francisco** has highest price given california consumption is high this is an anomaly. Looking into this more, there was a shortage in supply that caused the spike in the price."
   ]
  },
  {
   "cell_type": "markdown",
   "metadata": {},
   "source": [
    "# Price by type"
   ]
  },
  {
   "cell_type": "markdown",
   "metadata": {},
   "source": [
    "> There are two types of avocado in the dataset, conventional and organic. Exploring to see if there is an effect due to different types"
   ]
  },
  {
   "cell_type": "code",
   "execution_count": null,
   "metadata": {
    "ExecuteTime": {
     "end_time": "2019-11-06T16:01:28.207370Z",
     "start_time": "2019-11-06T16:01:27.716577Z"
    }
   },
   "outputs": [],
   "source": [
    "conventional = df.loc[df['type'] == 'conventional']\n",
    "organic = df.loc[df['type'] == 'organic']\n",
    "mean1=conventional.averageprice.mean()\n",
    "mean2=organic.averageprice.mean()\n",
    "fig,ax = plt.subplots(figsize=(10,10))\n",
    "ax = sns.distplot(conventional[['averageprice']], hist=True, rug=False, color='red',label='conventional')\n",
    "ax = sns.distplot(organic[['averageprice']], hist=True, rug=False, color='green',label='organic')\n",
    "ax.axvline(mean1, color='r', linestyle='--')\n",
    "ax.axvline(mean2, color='g', linestyle='--')\n",
    "ax.set(title=\"Distribution of avocado prices by type\")\n",
    "ax.legend()\n",
    "plt.show()"
   ]
  },
  {
   "cell_type": "code",
   "execution_count": null,
   "metadata": {
    "ExecuteTime": {
     "end_time": "2019-11-06T16:01:28.213359Z",
     "start_time": "2019-11-06T16:01:28.209156Z"
    }
   },
   "outputs": [],
   "source": [
    "print(f\"Mean price for conventional avocados is {round(conventional.averageprice.mean(),2)} and standard deviation is {round(conventional.averageprice.std(),2)}\")\n",
    "print(f\"Mean price for conventional avocados is {round(organic.averageprice.mean(),2)} and standard deviation is {round(organic.averageprice.std(),2)}\")"
   ]
  },
  {
   "cell_type": "markdown",
   "metadata": {
    "ExecuteTime": {
     "end_time": "2019-11-06T03:14:56.578062Z",
     "start_time": "2019-11-06T03:14:56.574023Z"
    }
   },
   "source": [
    ">* Mean price for **conventional** avocados is 1.16 and standard deviation is 0.26, While for **organic** avocados the mean is 1.66 with standard deviation 0.37. The prices of organic avocados are higher in average and more volatile than conventional avocados"
   ]
  },
  {
   "cell_type": "markdown",
   "metadata": {},
   "source": [
    "# Volume vs Price"
   ]
  },
  {
   "cell_type": "markdown",
   "metadata": {},
   "source": [
    ">After time and type, we should check the classic case of demand vs price. Exploring the changes in price with repect to total volume sold."
   ]
  },
  {
   "cell_type": "code",
   "execution_count": null,
   "metadata": {
    "ExecuteTime": {
     "end_time": "2019-11-06T16:01:29.120178Z",
     "start_time": "2019-11-06T16:01:28.215657Z"
    }
   },
   "outputs": [],
   "source": [
    "g = sns.FacetGrid(df, col=\"type\",  height=10, aspect=1, sharex=False)\n",
    "g = g.map(plt.scatter, \"total_volume\", \"averageprice\", edgecolor=\"w\")"
   ]
  },
  {
   "cell_type": "code",
   "execution_count": null,
   "metadata": {
    "ExecuteTime": {
     "end_time": "2019-11-06T16:01:29.495588Z",
     "start_time": "2019-11-06T16:01:29.122037Z"
    }
   },
   "outputs": [],
   "source": [
    "dategroup=df.loc[df.type=='organic'].groupby('date').mean().reset_index();\n",
    "fig, ax1 = plt.subplots(figsize=(12,8))\n",
    "sns.set(font_scale=1);\n",
    "ax2 = ax1.twinx()\n",
    "ax1.plot(dategroup.date, dategroup.total_volume, 'g-')\n",
    "ax2.plot(dategroup.date, dategroup.averageprice, 'b-')\n",
    "\n",
    "ax1.set_xlabel('Date')\n",
    "ax1.set_ylabel('Total Volume', color='g')\n",
    "ax2.set_ylabel('Average Price', color='b')\n",
    "\n",
    "plt.show()"
   ]
  },
  {
   "cell_type": "code",
   "execution_count": null,
   "metadata": {
    "ExecuteTime": {
     "end_time": "2019-11-06T16:01:29.872498Z",
     "start_time": "2019-11-06T16:01:29.497520Z"
    }
   },
   "outputs": [],
   "source": [
    "dategroup=df.loc[df.type=='conventional'].groupby('date').mean().reset_index();\n",
    "fig, ax1 = plt.subplots(figsize=(12,8))\n",
    "sns.set(font_scale=1);\n",
    "ax2 = ax1.twinx()\n",
    "ax1.plot(dategroup.date, dategroup.total_volume, 'g-')\n",
    "ax2.plot(dategroup.date, dategroup.averageprice, 'b-')\n",
    "\n",
    "ax1.set_xlabel('Date')\n",
    "ax1.set_ylabel('Total Volume', color='g')\n",
    "ax2.set_ylabel('Average Price', color='b')\n",
    "\n",
    "plt.show()"
   ]
  },
  {
   "cell_type": "markdown",
   "metadata": {},
   "source": [
    ">* Last two plots show that the upward spikes in avocado price matches with downward spikes in the total volume sold. So the inc/dec in prices might be a result of shortage/abundance in supply.\n",
    "\n",
    ">* Also, we might want to ocnsider two different models for conventional and organic avacados. We can see that in case of **conventional** type the price decreaes if total_volume increases, meaning more demand lower the price. In case of **organic** type, there is no clear relaton between total volume and price. This says that consumer behaviour is different for the two types mainly consumers of organic avocados doesn't worry much about the price."
   ]
  }
 ],
 "metadata": {
  "hide_input": false,
  "kernelspec": {
   "display_name": "Python 3",
   "language": "python",
   "name": "python3"
  },
  "language_info": {
   "codemirror_mode": {
    "name": "ipython",
    "version": 3
   },
   "file_extension": ".py",
   "mimetype": "text/x-python",
   "name": "python",
   "nbconvert_exporter": "python",
   "pygments_lexer": "ipython3",
   "version": "3.7.3"
  },
  "toc": {
   "base_numbering": 1,
   "nav_menu": {},
   "number_sections": true,
   "sideBar": true,
   "skip_h1_title": false,
   "title_cell": "Table of Contents",
   "title_sidebar": "Contents",
   "toc_cell": false,
   "toc_position": {},
   "toc_section_display": true,
   "toc_window_display": false
  }
 },
 "nbformat": 4,
 "nbformat_minor": 2
}
